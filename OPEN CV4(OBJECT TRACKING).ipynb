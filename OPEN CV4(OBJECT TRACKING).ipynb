import cv2
import numpy as np
windowName="General"
cv2.namedWindow(windowName)
cap=cv2.VideoCapture(0)
filename="C:\\Users\\ARIJIT ROYCHAUDHURY\\Documents\\video recrding.avi"
codec=cv2.VideoWriter_fourcc("M","J","P","G")
framerate=30
resolution=(640,480)
VideoFileOutput=cv2.VideoWriter(filename,codec,framerate,resolution)
if cap.isOpened():
    ret,frame=cap.read()
else:
    ret=false
while ret:
    ret,frame=cap.read()
    hsv=cv2.cvtColor(frame,cv2.COLOR_BGR2RGB)
    #BLUE COLOR
    low=np.array([100,50,50])
    high=np.array([140,255,255])
    #Red Color
    #low=np.array([140,150,0])
    #high=np.array([180,255,255])
    #Green Color
    #low=np.array([40,50,50])
    #high=np.array([80,255,255])
    imagemask=cv2.inRange(hsv,low,high)
    output=cv2.bitwise_and(frame,frame,mask=imagemask)
    VideoFileOutput.write(imagemask)
    cv2.imshow("ImageMask",imagemask)
    cv2.imshow("Detect Color",output)
    cv2.imshow(windowName,frame)
    if(cv2.waitKey(1)==27):
        break
cv2.destroyAllWindows()
VideoFileOutput.release()
cap.release()
